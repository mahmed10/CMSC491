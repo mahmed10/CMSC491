{
 "cells": [
  {
   "cell_type": "code",
   "execution_count": 1,
   "id": "91fab3d1-ecb4-4da6-adf7-5282b4d60e4e",
   "metadata": {},
   "outputs": [],
   "source": [
    "# from utils import *\n",
    "import torch\n",
    "from models.unet import UNET\n",
    "# from utils import *\n",
    "from tqdm import tqdm\n",
    "import matplotlib.pyplot as plt\n",
    "from torchvision import transforms\n",
    "import data\n",
    "from data import relis3d\n",
    "import cv2\n",
    "device = 'cuda:0'\n",
    "from PIL import Image\n",
    "import data\n",
    "from torchvision import transforms\n",
    "from models.deeplabv2 import get_deeplab_v2"
   ]
  },
  {
   "cell_type": "code",
   "execution_count": 19,
   "id": "aecacb26-f530-4c9d-ad96-9635c13227c5",
   "metadata": {},
   "outputs": [],
   "source": [
    "MODEL_PATH='./checkpoints/SingleDA_SingleBranch_CommonClasses__Source_cityscapes_Target_semantickitti_lr=0.001/e_0091'\n",
    "target_loader = data.setup_loaders('semantickitti', './dataset/SemanticKitti/trainlist.txt', 1)\n",
    "targetloader_iter = enumerate(target_loader)"
   ]
  },
  {
   "cell_type": "code",
   "execution_count": 2,
   "id": "8586bbc6-facd-41ea-9629-688e05f005fc",
   "metadata": {},
   "outputs": [],
   "source": [
    "MODEL_PATH='./checkpoints/Sourceonly_SingleBranch_CommonClasses__Source_rellis3d_Target_semantickitti/e_0099'\n",
    "target_loader = data.setup_loaders('semantickitti', './dataset/SemanticKitti/trainlist.txt', 1)\n",
    "# target_loader = data.setup_loaders('rellis3d', './dataset/Rellis3d/trainlist.txt', 1)\n",
    "targetloader_iter = enumerate(target_loader)"
   ]
  },
  {
   "cell_type": "code",
   "execution_count": 3,
   "id": "f78594c2-0be9-4fa5-8a4f-ad00bf0f2f19",
   "metadata": {},
   "outputs": [
    {
     "data": {
      "text/plain": [
       "UNET(\n",
       "  (double_conv_downs): ModuleList(\n",
       "    (0): Sequential(\n",
       "      (0): Conv2d(3, 64, kernel_size=(3, 3), stride=(1, 1), padding=(1, 1), bias=False)\n",
       "      (1): BatchNorm2d(64, eps=1e-05, momentum=0.1, affine=True, track_running_stats=True)\n",
       "      (2): ReLU(inplace=True)\n",
       "      (3): Conv2d(64, 64, kernel_size=(3, 3), stride=(1, 1), padding=(1, 1))\n",
       "      (4): ReLU(inplace=True)\n",
       "    )\n",
       "    (1): Sequential(\n",
       "      (0): Conv2d(64, 128, kernel_size=(3, 3), stride=(1, 1), padding=(1, 1), bias=False)\n",
       "      (1): BatchNorm2d(128, eps=1e-05, momentum=0.1, affine=True, track_running_stats=True)\n",
       "      (2): ReLU(inplace=True)\n",
       "      (3): Conv2d(128, 128, kernel_size=(3, 3), stride=(1, 1), padding=(1, 1))\n",
       "      (4): ReLU(inplace=True)\n",
       "    )\n",
       "    (2): Sequential(\n",
       "      (0): Conv2d(128, 256, kernel_size=(3, 3), stride=(1, 1), padding=(1, 1), bias=False)\n",
       "      (1): BatchNorm2d(256, eps=1e-05, momentum=0.1, affine=True, track_running_stats=True)\n",
       "      (2): ReLU(inplace=True)\n",
       "      (3): Conv2d(256, 256, kernel_size=(3, 3), stride=(1, 1), padding=(1, 1))\n",
       "      (4): ReLU(inplace=True)\n",
       "    )\n",
       "    (3): Sequential(\n",
       "      (0): Conv2d(256, 512, kernel_size=(3, 3), stride=(1, 1), padding=(1, 1), bias=False)\n",
       "      (1): BatchNorm2d(512, eps=1e-05, momentum=0.1, affine=True, track_running_stats=True)\n",
       "      (2): ReLU(inplace=True)\n",
       "      (3): Conv2d(512, 512, kernel_size=(3, 3), stride=(1, 1), padding=(1, 1))\n",
       "      (4): ReLU(inplace=True)\n",
       "    )\n",
       "    (4): Sequential(\n",
       "      (0): Conv2d(512, 1024, kernel_size=(3, 3), stride=(1, 1), padding=(1, 1), bias=False)\n",
       "      (1): BatchNorm2d(1024, eps=1e-05, momentum=0.1, affine=True, track_running_stats=True)\n",
       "      (2): ReLU(inplace=True)\n",
       "      (3): Conv2d(1024, 1024, kernel_size=(3, 3), stride=(1, 1), padding=(1, 1))\n",
       "      (4): ReLU(inplace=True)\n",
       "    )\n",
       "  )\n",
       "  (up_trans): ModuleList(\n",
       "    (0): ConvTranspose2d(1024, 512, kernel_size=(2, 2), stride=(2, 2))\n",
       "    (1): ConvTranspose2d(512, 256, kernel_size=(2, 2), stride=(2, 2))\n",
       "    (2): ConvTranspose2d(256, 128, kernel_size=(2, 2), stride=(2, 2))\n",
       "    (3): ConvTranspose2d(128, 64, kernel_size=(2, 2), stride=(2, 2))\n",
       "  )\n",
       "  (double_conv_ups): ModuleList(\n",
       "    (0): Sequential(\n",
       "      (0): Conv2d(1024, 512, kernel_size=(3, 3), stride=(1, 1), padding=(1, 1), bias=False)\n",
       "      (1): BatchNorm2d(512, eps=1e-05, momentum=0.1, affine=True, track_running_stats=True)\n",
       "      (2): ReLU(inplace=True)\n",
       "      (3): Conv2d(512, 512, kernel_size=(3, 3), stride=(1, 1), padding=(1, 1))\n",
       "      (4): ReLU(inplace=True)\n",
       "    )\n",
       "    (1): Sequential(\n",
       "      (0): Conv2d(512, 256, kernel_size=(3, 3), stride=(1, 1), padding=(1, 1), bias=False)\n",
       "      (1): BatchNorm2d(256, eps=1e-05, momentum=0.1, affine=True, track_running_stats=True)\n",
       "      (2): ReLU(inplace=True)\n",
       "      (3): Conv2d(256, 256, kernel_size=(3, 3), stride=(1, 1), padding=(1, 1))\n",
       "      (4): ReLU(inplace=True)\n",
       "    )\n",
       "    (2): Sequential(\n",
       "      (0): Conv2d(256, 128, kernel_size=(3, 3), stride=(1, 1), padding=(1, 1), bias=False)\n",
       "      (1): BatchNorm2d(128, eps=1e-05, momentum=0.1, affine=True, track_running_stats=True)\n",
       "      (2): ReLU(inplace=True)\n",
       "      (3): Conv2d(128, 128, kernel_size=(3, 3), stride=(1, 1), padding=(1, 1))\n",
       "      (4): ReLU(inplace=True)\n",
       "    )\n",
       "    (3): Sequential(\n",
       "      (0): Conv2d(128, 64, kernel_size=(3, 3), stride=(1, 1), padding=(1, 1), bias=False)\n",
       "      (1): BatchNorm2d(64, eps=1e-05, momentum=0.1, affine=True, track_running_stats=True)\n",
       "      (2): ReLU(inplace=True)\n",
       "      (3): Conv2d(64, 64, kernel_size=(3, 3), stride=(1, 1), padding=(1, 1))\n",
       "      (4): ReLU(inplace=True)\n",
       "    )\n",
       "  )\n",
       "  (max_pool_2x2): MaxPool2d(kernel_size=2, stride=2, padding=0, dilation=1, ceil_mode=False)\n",
       "  (final_conv): Conv2d(64, 9, kernel_size=(1, 1), stride=(1, 1))\n",
       "  (final_conv2): Conv2d(64, 9, kernel_size=(1, 1), stride=(1, 1))\n",
       ")"
      ]
     },
     "execution_count": 3,
     "metadata": {},
     "output_type": "execute_result"
    }
   ],
   "source": [
    "#net = get_deeplab_v2(num_classes=10, multi_level=True)\n",
    "net = UNET(in_channels=3, classes=9).to(device)\n",
    "checkpoint = torch.load(MODEL_PATH)\n",
    "net.load_state_dict(checkpoint['model_state_dict'])\n",
    "# net.cuda(device)"
   ]
  },
  {
   "cell_type": "code",
   "execution_count": 4,
   "id": "8c0649f4-e5e8-47cf-9dd8-ca199482e7f2",
   "metadata": {},
   "outputs": [
    {
     "name": "stderr",
     "output_type": "stream",
     "text": [
      "  1%|          | 2/199 [00:00<00:18, 10.47it/s]"
     ]
    },
    {
     "name": "stdout",
     "output_type": "stream",
     "text": [
      "torch.Size([1, 512, 35, 35])\n"
     ]
    },
    {
     "name": "stderr",
     "output_type": "stream",
     "text": [
      "100%|██████████| 199/199 [00:19<00:00, 10.46it/s]\n"
     ]
    },
    {
     "data": {
      "image/png": "[encoded data removed]",
      "text/plain": [
       "<Figure size 432x288 with 1 Axes>"
      ]
     },
     "metadata": {
      "needs_background": "light"
     },
     "output_type": "display_data"
    }
   ],
   "source": [
    "from evaluate import *\n",
    "_, batch = targetloader_iter.__next__()\n",
    "a= figure_draw(batch, net, device)\n",
    "print(a.shape)\n",
    "from tqdm import tqdm\n",
    "for e_epoch in tqdm(range(199)):\n",
    "    _, batch = targetloader_iter.__next__()\n",
    "    a = torch.cat((a,figure_draw(batch, net, device)))"
   ]
  },
  {
   "cell_type": "code",
   "execution_count": 6,
   "id": "11d77a5d-183e-42ef-a978-ed26f2cb8de7",
   "metadata": {},
   "outputs": [
    {
     "name": "stdout",
     "output_type": "stream",
     "text": [
      "torch.Size([200, 512, 35, 35])\n"
     ]
    }
   ],
   "source": [
    "print(a.shape)\n",
    "torch.save(a, './pickle_file/semantickitti_without_DA_activation_layer.pt')"
   ]
  },
  {
   "cell_type": "code",
   "execution_count": 14,
   "id": "cf0d6db8-ef20-4611-b91d-e3f8236a8d7c",
   "metadata": {},
   "outputs": [
    {
     "name": "stdout",
     "output_type": "stream",
     "text": [
      "tensor([[[[0.1086, 0.0000, 0.0000,  ..., 0.0034, 0.0000, 0.0000],\n",
      "          [0.0000, 0.0000, 0.6713,  ..., 0.0000, 0.0000, 0.0000],\n",
      "          [0.0000, 0.0000, 0.1316,  ..., 0.0000, 0.0000, 0.0000],\n",
      "          ...,\n",
      "          [0.0331, 0.0000, 0.0000,  ..., 0.0000, 0.0000, 0.0000],\n",
      "          [0.0000, 0.0000, 0.0000,  ..., 0.0000, 0.0000, 0.0000],\n",
      "          [0.0241, 0.0000, 0.0000,  ..., 0.0000, 0.0000, 0.0000]],\n",
      "\n",
      "         [[0.2785, 0.0000, 0.0000,  ..., 0.0000, 0.0000, 0.0000],\n",
      "          [0.1353, 0.0000, 0.0000,  ..., 0.1655, 0.0000, 0.1340],\n",
      "          [0.4063, 0.0000, 0.0000,  ..., 0.2707, 0.1981, 0.2579],\n",
      "          ...,\n",
      "          [0.3208, 0.0000, 0.0000,  ..., 0.0000, 0.0000, 0.0000],\n",
      "          [0.0000, 0.0000, 0.0000,  ..., 0.2160, 0.0000, 0.0000],\n",
      "          [0.0000, 0.0000, 0.0000,  ..., 0.0207, 0.0000, 0.0000]],\n",
      "\n",
      "         [[0.0000, 0.0000, 0.0332,  ..., 0.0000, 0.0000, 0.2168],\n",
      "          [0.0000, 0.0000, 0.1773,  ..., 0.0000, 0.4190, 0.6073],\n",
      "          [0.4937, 0.1755, 0.1440,  ..., 0.0000, 0.3632, 0.4828],\n",
      "          ...,\n",
      "          [0.1439, 0.0494, 0.2315,  ..., 0.3672, 0.0000, 0.0000],\n",
      "          [0.0000, 0.0278, 0.1677,  ..., 0.3355, 0.0763, 0.0000],\n",
      "          [0.2219, 0.0000, 0.1335,  ..., 0.2062, 0.2188, 0.0000]],\n",
      "\n",
      "         ...,\n",
      "\n",
      "         [[0.0000, 0.0000, 0.0000,  ..., 0.0000, 0.0000, 0.0311],\n",
      "          [0.0000, 0.2106, 0.0400,  ..., 0.0000, 0.0000, 0.0000],\n",
      "          [0.0000, 0.2909, 0.0000,  ..., 0.0000, 0.0000, 0.0000],\n",
      "          ...,\n",
      "          [0.0000, 0.0000, 0.0000,  ..., 0.0000, 0.1444, 0.4528],\n",
      "          [0.0000, 0.0000, 0.0000,  ..., 0.0000, 0.4201, 0.0000],\n",
      "          [0.0000, 0.0000, 0.0000,  ..., 0.0000, 0.3566, 0.2198]],\n",
      "\n",
      "         [[0.0000, 0.0000, 0.0000,  ..., 0.2261, 0.1016, 0.3076],\n",
      "          [0.0000, 0.4926, 0.0000,  ..., 0.0000, 0.0327, 0.0000],\n",
      "          [0.0000, 0.5772, 0.0000,  ..., 0.0000, 0.0000, 0.0000],\n",
      "          ...,\n",
      "          [0.0000, 0.1348, 0.0000,  ..., 0.0000, 0.0000, 0.0000],\n",
      "          [0.0375, 0.2073, 0.0000,  ..., 0.0000, 0.0000, 0.0000],\n",
      "          [0.2074, 0.2984, 0.0000,  ..., 0.1307, 0.1844, 0.0000]],\n",
      "\n",
      "         [[0.2933, 0.5013, 0.0619,  ..., 0.2928, 0.4681, 0.3144],\n",
      "          [0.0000, 0.1871, 0.0000,  ..., 0.1320, 0.8038, 0.2861],\n",
      "          [0.1699, 0.4217, 0.3528,  ..., 0.1437, 0.8582, 0.1893],\n",
      "          ...,\n",
      "          [0.2958, 0.0000, 0.1516,  ..., 0.4337, 0.0000, 0.5545],\n",
      "          [0.3289, 0.0000, 0.0444,  ..., 0.5051, 0.0479, 0.5632],\n",
      "          [0.1466, 0.0055, 0.1462,  ..., 0.0909, 0.1620, 0.8091]]]],\n",
      "       device='cuda:0')\n"
     ]
    }
   ],
   "source": [
    "print(a[1])"
   ]
  },
  {
   "cell_type": "code",
   "execution_count": 23,
   "id": "96d58d93-2cd3-499b-b7b3-7727166b78d7",
   "metadata": {},
   "outputs": [
    {
     "name": "stderr",
     "output_type": "stream",
     "text": [
      "100%|██████████| 1000/1000 [01:06<00:00, 14.95it/s]\n"
     ]
    }
   ],
   "source": [
    "iou0 = per_class_iou_calculataion(net, target_loader, device)"
   ]
  },
  {
   "cell_type": "code",
   "execution_count": 24,
   "id": "0a98d1df-722a-4dc9-ba16-0e4797c2eba9",
   "metadata": {},
   "outputs": [
    {
     "name": "stdout",
     "output_type": "stream",
     "text": [
      "[1.24118913e+00 1.16768472e+01 4.11558009e+01 0.00000000e+00\n",
      " 6.09863726e+01 0.00000000e+00 3.69150669e-05 0.00000000e+00\n",
      " 4.32935565e-01]\n"
     ]
    }
   ],
   "source": [
    "print(iou0*100) # doamain adaptation e 49 rellis to semantickitti"
   ]
  },
  {
   "cell_type": "code",
   "execution_count": 6,
   "id": "a1ff064b-0d15-42b4-8fba-a27933c82ae8",
   "metadata": {},
   "outputs": [
    {
     "name": "stderr",
     "output_type": "stream",
     "text": [
      "100%|██████████| 1000/1000 [01:05<00:00, 15.18it/s]\n"
     ]
    }
   ],
   "source": [
    "iou = per_class_iou_calculataion(net, target_loader, device)"
   ]
  },
  {
   "cell_type": "code",
   "execution_count": 7,
   "id": "628b380a-2bec-4239-9c63-7c6b94bf0767",
   "metadata": {},
   "outputs": [
    {
     "name": "stdout",
     "output_type": "stream",
     "text": [
      "[9.74102037e-01 1.14060118e+01 4.12952457e+01 0.00000000e+00\n",
      " 6.23603749e+01 0.00000000e+00 8.11714067e-04 0.00000000e+00\n",
      " 6.23299799e-02]\n"
     ]
    }
   ],
   "source": [
    "print(iou*100) # domain adaptation e 99 rellis to semantickitti"
   ]
  },
  {
   "cell_type": "code",
   "execution_count": 13,
   "id": "17993584-b0c6-4f2b-b6d0-b66f7b49e5a1",
   "metadata": {},
   "outputs": [
    {
     "name": "stderr",
     "output_type": "stream",
     "text": [
      "100%|██████████| 1000/1000 [01:06<00:00, 15.07it/s]\n"
     ]
    }
   ],
   "source": [
    "iou1 = per_class_iou_calculataion(net, target_loader, device)"
   ]
  },
  {
   "cell_type": "code",
   "execution_count": 8,
   "id": "5e517558-986c-4f16-881f-afd89f95fe64",
   "metadata": {},
   "outputs": [
    {
     "name": "stdout",
     "output_type": "stream",
     "text": [
      "[ 7.60476182 16.30631053 44.09394905  0.         55.08902824  0.\n",
      "  0.          0.          6.02096762]\n"
     ]
    }
   ],
   "source": [
    "print(iou1*100) #source only e 99 rellis to semantickitti"
   ]
  },
  {
   "cell_type": "code",
   "execution_count": 19,
   "id": "abde2423-b5e7-45ea-8b32-27b7efd683a3",
   "metadata": {},
   "outputs": [
    {
     "name": "stderr",
     "output_type": "stream",
     "text": [
      "100%|██████████| 1000/1000 [01:06<00:00, 15.03it/s]\n"
     ]
    }
   ],
   "source": [
    "iou2 = per_class_iou_calculataion(net, target_loader, device)"
   ]
  },
  {
   "cell_type": "code",
   "execution_count": 20,
   "id": "3a5fa7b8-e670-45d7-9415-d4e5747b2792",
   "metadata": {},
   "outputs": [
    {
     "name": "stdout",
     "output_type": "stream",
     "text": [
      "[ 8.22957496 14.07911635 34.52602932  0.         54.41125092  0.\n",
      "  0.          0.          7.02476993]\n"
     ]
    }
   ],
   "source": [
    "print(iou2*100) #source only e 49 rellis to semantickitti"
   ]
  },
  {
   "cell_type": "code",
   "execution_count": 10,
   "id": "07b88a1a-67ea-4069-9a37-b377443deb2b",
   "metadata": {},
   "outputs": [
    {
     "name": "stderr",
     "output_type": "stream",
     "text": [
      "100%|██████████| 1000/1000 [01:06<00:00, 15.10it/s]\n"
     ]
    }
   ],
   "source": [
    "iou00 = per_class_iou_calculataion(net, target_loader, device)"
   ]
  },
  {
   "cell_type": "code",
   "execution_count": 11,
   "id": "232af6b0-b15a-4fb2-9ed1-ce851e98e7a8",
   "metadata": {},
   "outputs": [
    {
     "name": "stdout",
     "output_type": "stream",
     "text": [
      "[48.77941968 29.62675744 60.07633931  9.94817836 42.29735584 54.31605651\n",
      " 10.76477621  2.84535072 11.4213991 ]\n",
      "0.27662026685189706\n"
     ]
    }
   ],
   "source": [
    "print(iou00*100) # doamain adaptation e 99 cityscape to semantickitti\n",
    "print(np.mean(iou00[1:]))"
   ]
  },
  {
   "cell_type": "code",
   "execution_count": 5,
   "id": "92127913-0b65-48b2-ba58-4cf26a4259e7",
   "metadata": {},
   "outputs": [
    {
     "name": "stderr",
     "output_type": "stream",
     "text": [
      "100%|██████████| 1000/1000 [01:06<00:00, 15.00it/s]\n"
     ]
    }
   ],
   "source": [
    "iou03 = per_class_iou_calculataion(net, target_loader, device)"
   ]
  },
  {
   "cell_type": "code",
   "execution_count": 12,
   "id": "1ce70d77-3ce4-4172-9d45-f92475458c68",
   "metadata": {},
   "outputs": [
    {
     "name": "stdout",
     "output_type": "stream",
     "text": [
      "[46.29399936 23.43367548 59.49733903 12.86899925 45.08419875 47.88434955\n",
      "  9.97098109  3.91968656 13.71934944]\n",
      "0.27047322392494283\n"
     ]
    }
   ],
   "source": [
    "print(iou03*100) # sourceonly e 99 cityscape to semantickitti\n",
    "print(np.mean(iou03[1:]))"
   ]
  },
  {
   "cell_type": "code",
   "execution_count": 9,
   "id": "4f45c20b-ffe1-4ec3-bca4-8b3869625c0d",
   "metadata": {},
   "outputs": [
    {
     "name": "stderr",
     "output_type": "stream",
     "text": [
      "100%|██████████| 1000/1000 [01:28<00:00, 11.29it/s]\n"
     ]
    }
   ],
   "source": [
    "iou01 = per_class_iou_calculataion(net, target_loader, device)"
   ]
  },
  {
   "cell_type": "code",
   "execution_count": 10,
   "id": "2fd06327-0881-4487-8d39-271264cdfc3d",
   "metadata": {},
   "outputs": [
    {
     "name": "stdout",
     "output_type": "stream",
     "text": [
      "[45.71974375 22.62888641 58.45282363 11.75653267 54.45166093 48.17341613\n",
      "  9.15054464  3.9734542  13.84403006]\n"
     ]
    }
   ],
   "source": [
    "print(iou01*100) # source only e 49 cityscape to semantickitti"
   ]
  },
  {
   "cell_type": "code",
   "execution_count": 20,
   "id": "04f04586-773c-456c-8f3e-5906cbde51c0",
   "metadata": {},
   "outputs": [
    {
     "name": "stderr",
     "output_type": "stream",
     "text": [
      "100%|██████████| 1000/1000 [01:28<00:00, 11.31it/s]\n"
     ]
    }
   ],
   "source": [
    "iou02 = per_class_iou_calculataion(net, target_loader, device)"
   ]
  },
  {
   "cell_type": "code",
   "execution_count": 21,
   "id": "f02b0788-a87a-4172-8386-936c5319cf62",
   "metadata": {},
   "outputs": [
    {
     "name": "stdout",
     "output_type": "stream",
     "text": [
      "[48.77941968 29.62675744 60.07633931  9.94817836 42.29735584 54.31605651\n",
      " 10.76477621  2.84535072 11.4213991 ]\n"
     ]
    }
   ],
   "source": [
    "print(iou02*100) # doamain adaptation e 49 cityscape to semantickitti"
   ]
  },
  {
   "cell_type": "code",
   "execution_count": 22,
   "id": "ec41fa6d-64d2-4b00-8a54-af22fbe4951e",
   "metadata": {},
   "outputs": [
    {
     "name": "stderr",
     "output_type": "stream",
     "text": [
      "100%|██████████| 1000/1000 [01:32<00:00, 10.79it/s]\n"
     ]
    }
   ],
   "source": [
    "iou000 = per_class_iou_calculataion(net, target_loader, device)"
   ]
  },
  {
   "cell_type": "code",
   "execution_count": 23,
   "id": "97e8bcd0-31ea-45fa-bcf9-916d43c912c7",
   "metadata": {},
   "outputs": [
    {
     "name": "stdout",
     "output_type": "stream",
     "text": [
      "[47.19059835 27.24692203 61.3661239  11.66227404 20.62716586 55.50836684\n",
      " 13.49860723  3.03662874 11.01162643]\n",
      "0.25494714381947425\n"
     ]
    }
   ],
   "source": [
    "print(iou000*100) # doamain adaptation e 99 cityscape to semantickitti with lr 0.001\n",
    "print(np.mean(iou000[1:]))"
   ]
  },
  {
   "cell_type": "code",
   "execution_count": null,
   "id": "51775342-67ac-4e36-9b21-68e629dc3ea2",
   "metadata": {},
   "outputs": [],
   "source": []
  }
 ],
 "metadata": {
  "kernelspec": {
   "display_name": "Python 3",
   "language": "python",
   "name": "python3"
  },
  "language_info": {
   "codemirror_mode": {
    "name": "ipython",
    "version": 3
   },
   "file_extension": ".py",
   "mimetype": "text/x-python",
   "name": "python",
   "nbconvert_exporter": "python",
   "pygments_lexer": "ipython3",
   "version": "3.6.9"
  }
 },
 "nbformat": 4,
 "nbformat_minor": 5
}
